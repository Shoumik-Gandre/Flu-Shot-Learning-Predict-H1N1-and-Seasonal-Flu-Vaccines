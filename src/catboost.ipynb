{
 "cells": [
  {
   "cell_type": "code",
   "execution_count": 1,
   "metadata": {},
   "outputs": [],
   "source": [
    "from catboost import Pool, cv, CatBoostClassifier\n",
    "from constants import *\n",
    "import numpy as np\n",
    "import pandas as pd\n",
    "from sklearn.model_selection import train_test_split\n",
    "from sklearn.metrics import roc_auc_score\n",
    "import optuna"
   ]
  },
  {
   "attachments": {},
   "cell_type": "markdown",
   "metadata": {},
   "source": [
    "# Load Data"
   ]
  },
  {
   "cell_type": "code",
   "execution_count": 2,
   "metadata": {},
   "outputs": [],
   "source": [
    "features_df = pd.read_csv(TRAINING_FEATURES_PATH, index_col='respondent_id')\n",
    "labels_df = pd.read_csv(TRAINING_LABELS_PATH,index_col='respondent_id')\n",
    "test_features_df = pd.read_csv(TEST_FEATURES_PATH, index_col=\"respondent_id\")"
   ]
  },
  {
   "attachments": {},
   "cell_type": "markdown",
   "metadata": {},
   "source": [
    "# Impute"
   ]
  },
  {
   "cell_type": "code",
   "execution_count": 3,
   "metadata": {},
   "outputs": [],
   "source": [
    "num_cols = features_df.select_dtypes('number').columns\n",
    "cat_cols = ['race', 'sex', 'marital_status', 'rent_or_own',  'hhs_geo_region', \n",
    "            'census_msa', 'employment_industry', 'employment_occupation']\n",
    "ord_cols = ['age_group', 'education', 'income_poverty', 'employment_status']"
   ]
  },
  {
   "cell_type": "code",
   "execution_count": 4,
   "metadata": {},
   "outputs": [],
   "source": [
    "for col in (cat_cols+ord_cols):\n",
    "    features_df[col] = features_df[col].fillna(value='None')\n",
    "    test_features_df[col] = test_features_df[col].fillna(value='None')\n",
    "\n",
    "for col in num_cols:\n",
    "    features_df[col] = features_df[col].fillna(value=-1)\n",
    "    test_features_df[col] = test_features_df[col].fillna(value=-1)\n",
    "    "
   ]
  },
  {
   "cell_type": "code",
   "execution_count": 5,
   "metadata": {},
   "outputs": [],
   "source": [
    "categorical_features_indices = np.where(features_df.dtypes != float)[0]"
   ]
  },
  {
   "cell_type": "code",
   "execution_count": 6,
   "metadata": {},
   "outputs": [],
   "source": [
    "X_train, X_test, y_train, y_test = train_test_split(features_df, labels_df, test_size=0.3, random_state=68)"
   ]
  },
  {
   "cell_type": "code",
   "execution_count": 7,
   "metadata": {},
   "outputs": [],
   "source": [
    "def objective(trial: optuna.Trial, pool: Pool) -> float:\n",
    "    params = {\n",
    "        'iterations': trial.suggest_categorical('iterations', [100, 200, 300, 500, 1000, 1200, 1500]),\n",
    "        'learning_rate': trial.suggest_float(\"learning_rate\", 0.001, 0.3),\n",
    "        'random_strength': trial.suggest_int(\"random_strength\", 1, 10),\n",
    "        'bagging_temperature': trial.suggest_int(\"bagging_temperature\", 0, 10),\n",
    "        'max_bin': trial.suggest_categorical('max_bin', [4, 5, 6, 8, 10, 20, 30]),\n",
    "        'grow_policy': trial.suggest_categorical('grow_policy', ['SymmetricTree', 'Depthwise', 'Lossguide']),\n",
    "        'min_data_in_leaf':trial.suggest_int(\"min_data_in_leaf\", 1,10),\n",
    "        \"depth\": trial.suggest_int(\"max_depth\", 2,10),\n",
    "        \"l2_leaf_reg\": trial.suggest_float(\"l2_leaf_reg\", 1e-8, 100),\n",
    "        'one_hot_max_size': trial.suggest_categorical('one_hot_max_size', [5,10,12,100,500,1024]),\n",
    "        'auto_class_weights': trial.suggest_categorical('auto_class_weights', ['Balanced', 'SqrtBalanced']),\n",
    "        'custom_metric': ['AUC'],\n",
    "        'od_type': \"Iter\",\n",
    "        'od_wait': 100,\n",
    "        \"loss_function\": \"Logloss\",\n",
    "    }\n",
    "\n",
    "    scores = cv(\n",
    "        pool=pool,\n",
    "        params=params,\n",
    "        fold_count=5, \n",
    "        early_stopping_rounds=10,         \n",
    "        plot=False, \n",
    "        logging_level='Silent'\n",
    "    )\n",
    "\n",
    "    return scores['test-AUC-mean'].max()"
   ]
  },
  {
   "attachments": {},
   "cell_type": "markdown",
   "metadata": {},
   "source": [
    "# H1N1 Vaccine Prediction"
   ]
  },
  {
   "cell_type": "code",
   "execution_count": 8,
   "metadata": {},
   "outputs": [],
   "source": [
    "h1n1_vaccine_pool = Pool(data=X_train,\n",
    "                     label=y_train.h1n1_vaccine,\n",
    "                     cat_features = categorical_features_indices)"
   ]
  },
  {
   "cell_type": "code",
   "execution_count": 9,
   "metadata": {},
   "outputs": [
    {
     "name": "stderr",
     "output_type": "stream",
     "text": [
      "\u001b[32m[I 2023-04-27 17:10:45,272]\u001b[0m A new study created in memory with name: no-name-b0fdea65-ceda-4f1f-ba77-d23a319cfa0d\u001b[0m\n",
      "\u001b[32m[I 2023-04-27 17:11:14,296]\u001b[0m Trial 0 finished with value: 0.8655198294622981 and parameters: {'iterations': 1500, 'learning_rate': 0.029356482739949695, 'random_strength': 8, 'bagging_temperature': 10, 'max_bin': 6, 'grow_policy': 'SymmetricTree', 'min_data_in_leaf': 1, 'max_depth': 4, 'l2_leaf_reg': 52.99113765425227, 'one_hot_max_size': 100, 'auto_class_weights': 'SqrtBalanced'}. Best is trial 0 with value: 0.8655198294622981.\u001b[0m\n",
      "\u001b[32m[I 2023-04-27 17:11:25,802]\u001b[0m Trial 1 finished with value: 0.8653117586190222 and parameters: {'iterations': 200, 'learning_rate': 0.1464067066361795, 'random_strength': 10, 'bagging_temperature': 3, 'max_bin': 10, 'grow_policy': 'Depthwise', 'min_data_in_leaf': 1, 'max_depth': 3, 'l2_leaf_reg': 64.53360776051433, 'one_hot_max_size': 500, 'auto_class_weights': 'SqrtBalanced'}. Best is trial 0 with value: 0.8655198294622981.\u001b[0m\n",
      "\u001b[32m[I 2023-04-27 17:11:46,258]\u001b[0m Trial 2 finished with value: 0.8650115327248609 and parameters: {'iterations': 200, 'learning_rate': 0.27287829596201946, 'random_strength': 8, 'bagging_temperature': 8, 'max_bin': 10, 'grow_policy': 'SymmetricTree', 'min_data_in_leaf': 1, 'max_depth': 5, 'l2_leaf_reg': 64.36641777856586, 'one_hot_max_size': 10, 'auto_class_weights': 'SqrtBalanced'}. Best is trial 0 with value: 0.8655198294622981.\u001b[0m\n",
      "\u001b[32m[I 2023-04-27 17:12:37,639]\u001b[0m Trial 3 finished with value: 0.8630662961651714 and parameters: {'iterations': 1200, 'learning_rate': 0.0603209284932487, 'random_strength': 3, 'bagging_temperature': 7, 'max_bin': 4, 'grow_policy': 'SymmetricTree', 'min_data_in_leaf': 2, 'max_depth': 2, 'l2_leaf_reg': 11.141008081018764, 'one_hot_max_size': 10, 'auto_class_weights': 'SqrtBalanced'}. Best is trial 0 with value: 0.8655198294622981.\u001b[0m\n",
      "\u001b[32m[I 2023-04-27 17:12:47,760]\u001b[0m Trial 4 finished with value: 0.8653984022172265 and parameters: {'iterations': 300, 'learning_rate': 0.22423670437233847, 'random_strength': 6, 'bagging_temperature': 2, 'max_bin': 30, 'grow_policy': 'SymmetricTree', 'min_data_in_leaf': 4, 'max_depth': 4, 'l2_leaf_reg': 40.12543386326223, 'one_hot_max_size': 500, 'auto_class_weights': 'SqrtBalanced'}. Best is trial 0 with value: 0.8655198294622981.\u001b[0m\n",
      "\u001b[32m[I 2023-04-27 17:12:55,785]\u001b[0m Trial 5 finished with value: 0.8511929121961327 and parameters: {'iterations': 100, 'learning_rate': 0.06628011038512191, 'random_strength': 4, 'bagging_temperature': 4, 'max_bin': 20, 'grow_policy': 'Lossguide', 'min_data_in_leaf': 3, 'max_depth': 2, 'l2_leaf_reg': 91.38360597231497, 'one_hot_max_size': 100, 'auto_class_weights': 'Balanced'}. Best is trial 0 with value: 0.8655198294622981.\u001b[0m\n",
      "\u001b[32m[I 2023-04-27 17:14:08,602]\u001b[0m Trial 6 finished with value: 0.8661283905542716 and parameters: {'iterations': 1200, 'learning_rate': 0.09658215406978513, 'random_strength': 8, 'bagging_temperature': 2, 'max_bin': 30, 'grow_policy': 'Depthwise', 'min_data_in_leaf': 6, 'max_depth': 10, 'l2_leaf_reg': 84.24199452390398, 'one_hot_max_size': 5, 'auto_class_weights': 'SqrtBalanced'}. Best is trial 6 with value: 0.8661283905542716.\u001b[0m\n",
      "\u001b[32m[I 2023-04-27 17:14:18,091]\u001b[0m Trial 7 finished with value: 0.863715998676731 and parameters: {'iterations': 500, 'learning_rate': 0.2714096381817127, 'random_strength': 4, 'bagging_temperature': 6, 'max_bin': 8, 'grow_policy': 'Depthwise', 'min_data_in_leaf': 1, 'max_depth': 2, 'l2_leaf_reg': 86.93456371096366, 'one_hot_max_size': 1024, 'auto_class_weights': 'Balanced'}. Best is trial 6 with value: 0.8661283905542716.\u001b[0m\n",
      "\u001b[32m[I 2023-04-27 17:14:27,708]\u001b[0m Trial 8 finished with value: 0.8640025570517988 and parameters: {'iterations': 1500, 'learning_rate': 0.2053434310118264, 'random_strength': 8, 'bagging_temperature': 0, 'max_bin': 20, 'grow_policy': 'Depthwise', 'min_data_in_leaf': 10, 'max_depth': 3, 'l2_leaf_reg': 29.77792634047987, 'one_hot_max_size': 500, 'auto_class_weights': 'SqrtBalanced'}. Best is trial 6 with value: 0.8661283905542716.\u001b[0m\n",
      "\u001b[32m[I 2023-04-27 17:15:34,557]\u001b[0m Trial 9 finished with value: 0.8630359862565152 and parameters: {'iterations': 100, 'learning_rate': 0.25900665720714294, 'random_strength': 3, 'bagging_temperature': 0, 'max_bin': 6, 'grow_policy': 'Lossguide', 'min_data_in_leaf': 8, 'max_depth': 7, 'l2_leaf_reg': 10.67984493704663, 'one_hot_max_size': 12, 'auto_class_weights': 'SqrtBalanced'}. Best is trial 6 with value: 0.8661283905542716.\u001b[0m\n",
      "\u001b[32m[I 2023-04-27 17:16:39,793]\u001b[0m Trial 10 finished with value: 0.8648041562257991 and parameters: {'iterations': 1200, 'learning_rate': 0.12549483745453816, 'random_strength': 10, 'bagging_temperature': 2, 'max_bin': 5, 'grow_policy': 'Depthwise', 'min_data_in_leaf': 6, 'max_depth': 10, 'l2_leaf_reg': 96.39895793725752, 'one_hot_max_size': 5, 'auto_class_weights': 'Balanced'}. Best is trial 6 with value: 0.8661283905542716.\u001b[0m\n",
      "\u001b[32m[I 2023-04-27 17:23:41,536]\u001b[0m Trial 11 finished with value: 0.8628436781417346 and parameters: {'iterations': 1500, 'learning_rate': 0.006258402413494596, 'random_strength': 7, 'bagging_temperature': 9, 'max_bin': 6, 'grow_policy': 'SymmetricTree', 'min_data_in_leaf': 6, 'max_depth': 7, 'l2_leaf_reg': 65.66135143222847, 'one_hot_max_size': 5, 'auto_class_weights': 'SqrtBalanced'}. Best is trial 6 with value: 0.8661283905542716.\u001b[0m\n",
      "\u001b[32m[I 2023-04-27 17:24:12,477]\u001b[0m Trial 12 finished with value: 0.8661257982260508 and parameters: {'iterations': 1000, 'learning_rate': 0.08707338667260289, 'random_strength': 8, 'bagging_temperature': 10, 'max_bin': 30, 'grow_policy': 'Depthwise', 'min_data_in_leaf': 5, 'max_depth': 10, 'l2_leaf_reg': 78.05629786859971, 'one_hot_max_size': 100, 'auto_class_weights': 'SqrtBalanced'}. Best is trial 6 with value: 0.8661283905542716.\u001b[0m\n",
      "\u001b[32m[I 2023-04-27 17:25:07,314]\u001b[0m Trial 13 finished with value: 0.8660447317909273 and parameters: {'iterations': 1000, 'learning_rate': 0.10694777137187768, 'random_strength': 1, 'bagging_temperature': 5, 'max_bin': 30, 'grow_policy': 'Depthwise', 'min_data_in_leaf': 5, 'max_depth': 10, 'l2_leaf_reg': 80.67427626323432, 'one_hot_max_size': 5, 'auto_class_weights': 'SqrtBalanced'}. Best is trial 6 with value: 0.8661283905542716.\u001b[0m\n",
      "\u001b[32m[I 2023-04-27 17:25:33,584]\u001b[0m Trial 14 finished with value: 0.8656712967547916 and parameters: {'iterations': 1000, 'learning_rate': 0.10269844751422495, 'random_strength': 9, 'bagging_temperature': 10, 'max_bin': 30, 'grow_policy': 'Depthwise', 'min_data_in_leaf': 8, 'max_depth': 9, 'l2_leaf_reg': 99.66545082282678, 'one_hot_max_size': 100, 'auto_class_weights': 'SqrtBalanced'}. Best is trial 6 with value: 0.8661283905542716.\u001b[0m\n",
      "\u001b[32m[I 2023-04-27 17:25:46,489]\u001b[0m Trial 15 finished with value: 0.8644262820525819 and parameters: {'iterations': 1000, 'learning_rate': 0.18119977783277078, 'random_strength': 6, 'bagging_temperature': 5, 'max_bin': 30, 'grow_policy': 'Depthwise', 'min_data_in_leaf': 7, 'max_depth': 8, 'l2_leaf_reg': 77.74136311007409, 'one_hot_max_size': 1024, 'auto_class_weights': 'Balanced'}. Best is trial 6 with value: 0.8661283905542716.\u001b[0m\n",
      "\u001b[32m[I 2023-04-27 17:27:42,468]\u001b[0m Trial 16 finished with value: 0.8671767938836041 and parameters: {'iterations': 1200, 'learning_rate': 0.07803040657490981, 'random_strength': 7, 'bagging_temperature': 2, 'max_bin': 30, 'grow_policy': 'Depthwise', 'min_data_in_leaf': 4, 'max_depth': 9, 'l2_leaf_reg': 74.76721607263049, 'one_hot_max_size': 12, 'auto_class_weights': 'SqrtBalanced'}. Best is trial 16 with value: 0.8671767938836041.\u001b[0m\n",
      "\u001b[32m[I 2023-04-27 17:30:02,262]\u001b[0m Trial 17 finished with value: 0.8652312941506285 and parameters: {'iterations': 1200, 'learning_rate': 0.15649540312849824, 'random_strength': 5, 'bagging_temperature': 1, 'max_bin': 5, 'grow_policy': 'Lossguide', 'min_data_in_leaf': 4, 'max_depth': 8, 'l2_leaf_reg': 75.15420647356153, 'one_hot_max_size': 12, 'auto_class_weights': 'SqrtBalanced'}. Best is trial 16 with value: 0.8671767938836041.\u001b[0m\n",
      "\u001b[32m[I 2023-04-27 17:32:30,239]\u001b[0m Trial 18 finished with value: 0.8674305385424492 and parameters: {'iterations': 1200, 'learning_rate': 0.05298359079735316, 'random_strength': 7, 'bagging_temperature': 3, 'max_bin': 4, 'grow_policy': 'Depthwise', 'min_data_in_leaf': 3, 'max_depth': 9, 'l2_leaf_reg': 89.06945800411691, 'one_hot_max_size': 12, 'auto_class_weights': 'Balanced'}. Best is trial 18 with value: 0.8674305385424492.\u001b[0m\n",
      "\u001b[32m[I 2023-04-27 17:34:49,894]\u001b[0m Trial 19 finished with value: 0.8674971142763723 and parameters: {'iterations': 1200, 'learning_rate': 0.04315568063411701, 'random_strength': 7, 'bagging_temperature': 4, 'max_bin': 4, 'grow_policy': 'Depthwise', 'min_data_in_leaf': 3, 'max_depth': 6, 'l2_leaf_reg': 99.96147949525408, 'one_hot_max_size': 12, 'auto_class_weights': 'Balanced'}. Best is trial 19 with value: 0.8674971142763723.\u001b[0m\n",
      "\u001b[32m[I 2023-04-27 17:43:52,600]\u001b[0m Trial 20 finished with value: 0.8666902524674059 and parameters: {'iterations': 500, 'learning_rate': 0.03329154483574943, 'random_strength': 5, 'bagging_temperature': 4, 'max_bin': 4, 'grow_policy': 'Lossguide', 'min_data_in_leaf': 3, 'max_depth': 6, 'l2_leaf_reg': 99.56963229079747, 'one_hot_max_size': 12, 'auto_class_weights': 'Balanced'}. Best is trial 19 with value: 0.8674971142763723.\u001b[0m\n",
      "\u001b[32m[I 2023-04-27 17:45:40,515]\u001b[0m Trial 21 finished with value: 0.866510515960601 and parameters: {'iterations': 1200, 'learning_rate': 0.06452856317705781, 'random_strength': 7, 'bagging_temperature': 3, 'max_bin': 4, 'grow_policy': 'Depthwise', 'min_data_in_leaf': 3, 'max_depth': 8, 'l2_leaf_reg': 87.09199107904861, 'one_hot_max_size': 12, 'auto_class_weights': 'Balanced'}. Best is trial 19 with value: 0.8674971142763723.\u001b[0m\n",
      "\u001b[32m[I 2023-04-27 17:48:02,914]\u001b[0m Trial 22 finished with value: 0.8667063771982715 and parameters: {'iterations': 1200, 'learning_rate': 0.03925630488559646, 'random_strength': 7, 'bagging_temperature': 4, 'max_bin': 4, 'grow_policy': 'Depthwise', 'min_data_in_leaf': 4, 'max_depth': 6, 'l2_leaf_reg': 92.10437960417613, 'one_hot_max_size': 12, 'auto_class_weights': 'Balanced'}. Best is trial 19 with value: 0.8674971142763723.\u001b[0m\n",
      "\u001b[32m[I 2023-04-27 17:58:08,167]\u001b[0m Trial 23 finished with value: 0.8584671851590503 and parameters: {'iterations': 1200, 'learning_rate': 0.0020430979015044204, 'random_strength': 6, 'bagging_temperature': 3, 'max_bin': 4, 'grow_policy': 'Depthwise', 'min_data_in_leaf': 2, 'max_depth': 9, 'l2_leaf_reg': 90.7699289024645, 'one_hot_max_size': 12, 'auto_class_weights': 'Balanced'}. Best is trial 19 with value: 0.8674971142763723.\u001b[0m\n",
      "\u001b[32m[I 2023-04-27 17:59:54,559]\u001b[0m Trial 24 finished with value: 0.8673715580439966 and parameters: {'iterations': 300, 'learning_rate': 0.07400569902002888, 'random_strength': 9, 'bagging_temperature': 1, 'max_bin': 8, 'grow_policy': 'Depthwise', 'min_data_in_leaf': 2, 'max_depth': 7, 'l2_leaf_reg': 72.90764394580674, 'one_hot_max_size': 12, 'auto_class_weights': 'Balanced'}. Best is trial 19 with value: 0.8674971142763723.\u001b[0m\n",
      "\u001b[32m[I 2023-04-27 18:02:01,857]\u001b[0m Trial 25 finished with value: 0.8668336489521726 and parameters: {'iterations': 300, 'learning_rate': 0.055126113696881744, 'random_strength': 9, 'bagging_temperature': 1, 'max_bin': 8, 'grow_policy': 'Depthwise', 'min_data_in_leaf': 2, 'max_depth': 7, 'l2_leaf_reg': 85.38556510455241, 'one_hot_max_size': 12, 'auto_class_weights': 'Balanced'}. Best is trial 19 with value: 0.8674971142763723.\u001b[0m\n",
      "\u001b[32m[I 2023-04-27 18:03:51,056]\u001b[0m Trial 26 finished with value: 0.8647519926752496 and parameters: {'iterations': 300, 'learning_rate': 0.04237391639435471, 'random_strength': 9, 'bagging_temperature': 6, 'max_bin': 8, 'grow_policy': 'Depthwise', 'min_data_in_leaf': 3, 'max_depth': 5, 'l2_leaf_reg': 99.82588891477289, 'one_hot_max_size': 12, 'auto_class_weights': 'Balanced'}. Best is trial 19 with value: 0.8674971142763723.\u001b[0m\n",
      "\u001b[32m[I 2023-04-27 18:05:13,268]\u001b[0m Trial 27 finished with value: 0.8658384313356002 and parameters: {'iterations': 300, 'learning_rate': 0.08013419862366541, 'random_strength': 10, 'bagging_temperature': 1, 'max_bin': 8, 'grow_policy': 'Depthwise', 'min_data_in_leaf': 2, 'max_depth': 5, 'l2_leaf_reg': 71.33946109345052, 'one_hot_max_size': 12, 'auto_class_weights': 'Balanced'}. Best is trial 19 with value: 0.8674971142763723.\u001b[0m\n",
      "\u001b[32m[I 2023-04-27 18:07:27,897]\u001b[0m Trial 28 finished with value: 0.8596055109863749 and parameters: {'iterations': 300, 'learning_rate': 0.01670620033999247, 'random_strength': 9, 'bagging_temperature': 3, 'max_bin': 4, 'grow_policy': 'Depthwise', 'min_data_in_leaf': 3, 'max_depth': 7, 'l2_leaf_reg': 92.89419283481729, 'one_hot_max_size': 12, 'auto_class_weights': 'Balanced'}. Best is trial 19 with value: 0.8674971142763723.\u001b[0m\n",
      "\u001b[32m[I 2023-04-27 18:16:08,190]\u001b[0m Trial 29 finished with value: 0.8667242650969458 and parameters: {'iterations': 500, 'learning_rate': 0.032825731500735464, 'random_strength': 7, 'bagging_temperature': 5, 'max_bin': 4, 'grow_policy': 'Lossguide', 'min_data_in_leaf': 2, 'max_depth': 6, 'l2_leaf_reg': 51.75935182917786, 'one_hot_max_size': 10, 'auto_class_weights': 'Balanced'}. Best is trial 19 with value: 0.8674971142763723.\u001b[0m\n",
      "\u001b[32m[I 2023-04-27 18:16:21,984]\u001b[0m Trial 30 finished with value: 0.8495433451772525 and parameters: {'iterations': 100, 'learning_rate': 0.016101238701117526, 'random_strength': 9, 'bagging_temperature': 0, 'max_bin': 8, 'grow_policy': 'SymmetricTree', 'min_data_in_leaf': 5, 'max_depth': 8, 'l2_leaf_reg': 82.49587925749725, 'one_hot_max_size': 1024, 'auto_class_weights': 'Balanced'}. Best is trial 19 with value: 0.8674971142763723.\u001b[0m\n",
      "\u001b[32m[I 2023-04-27 18:18:19,206]\u001b[0m Trial 31 finished with value: 0.8664901448406557 and parameters: {'iterations': 1200, 'learning_rate': 0.07280341334823388, 'random_strength': 7, 'bagging_temperature': 1, 'max_bin': 4, 'grow_policy': 'Depthwise', 'min_data_in_leaf': 4, 'max_depth': 9, 'l2_leaf_reg': 68.6194561429515, 'one_hot_max_size': 12, 'auto_class_weights': 'Balanced'}. Best is trial 19 with value: 0.8674971142763723.\u001b[0m\n",
      "\u001b[32m[I 2023-04-27 18:20:47,920]\u001b[0m Trial 32 finished with value: 0.8666532931852016 and parameters: {'iterations': 1200, 'learning_rate': 0.050273215312542835, 'random_strength': 6, 'bagging_temperature': 2, 'max_bin': 10, 'grow_policy': 'Depthwise', 'min_data_in_leaf': 4, 'max_depth': 9, 'l2_leaf_reg': 58.33965240292088, 'one_hot_max_size': 12, 'auto_class_weights': 'Balanced'}. Best is trial 19 with value: 0.8674971142763723.\u001b[0m\n",
      "\u001b[32m[I 2023-04-27 18:22:19,382]\u001b[0m Trial 33 finished with value: 0.8664771041844691 and parameters: {'iterations': 1200, 'learning_rate': 0.07955164610997839, 'random_strength': 8, 'bagging_temperature': 4, 'max_bin': 20, 'grow_policy': 'Depthwise', 'min_data_in_leaf': 1, 'max_depth': 8, 'l2_leaf_reg': 74.12639619261901, 'one_hot_max_size': 12, 'auto_class_weights': 'Balanced'}. Best is trial 19 with value: 0.8674971142763723.\u001b[0m\n",
      "\u001b[32m[I 2023-04-27 18:23:11,096]\u001b[0m Trial 34 finished with value: 0.8658968437923846 and parameters: {'iterations': 200, 'learning_rate': 0.12302203352821073, 'random_strength': 7, 'bagging_temperature': 3, 'max_bin': 5, 'grow_policy': 'Depthwise', 'min_data_in_leaf': 3, 'max_depth': 4, 'l2_leaf_reg': 60.94314661987955, 'one_hot_max_size': 12, 'auto_class_weights': 'Balanced'}. Best is trial 19 with value: 0.8674971142763723.\u001b[0m\n",
      "\u001b[32m[I 2023-04-27 18:24:25,607]\u001b[0m Trial 35 finished with value: 0.8643194146652606 and parameters: {'iterations': 200, 'learning_rate': 0.05321683355911014, 'random_strength': 5, 'bagging_temperature': 2, 'max_bin': 10, 'grow_policy': 'SymmetricTree', 'min_data_in_leaf': 1, 'max_depth': 7, 'l2_leaf_reg': 72.68103141450632, 'one_hot_max_size': 10, 'auto_class_weights': 'Balanced'}. Best is trial 19 with value: 0.8674971142763723.\u001b[0m\n",
      "\u001b[32m[I 2023-04-27 18:26:17,037]\u001b[0m Trial 36 finished with value: 0.8680167268415009 and parameters: {'iterations': 1200, 'learning_rate': 0.024574019723977228, 'random_strength': 10, 'bagging_temperature': 3, 'max_bin': 6, 'grow_policy': 'Depthwise', 'min_data_in_leaf': 2, 'max_depth': 9, 'l2_leaf_reg': 79.29299435858007, 'one_hot_max_size': 500, 'auto_class_weights': 'SqrtBalanced'}. Best is trial 36 with value: 0.8680167268415009.\u001b[0m\n",
      "\u001b[32m[I 2023-04-27 18:26:46,909]\u001b[0m Trial 37 finished with value: 0.8585575387989121 and parameters: {'iterations': 300, 'learning_rate': 0.027137637444599922, 'random_strength': 10, 'bagging_temperature': 3, 'max_bin': 6, 'grow_policy': 'Depthwise', 'min_data_in_leaf': 1, 'max_depth': 5, 'l2_leaf_reg': 79.95918449433502, 'one_hot_max_size': 500, 'auto_class_weights': 'Balanced'}. Best is trial 36 with value: 0.8680167268415009.\u001b[0m\n",
      "\u001b[32m[I 2023-04-27 18:27:20,047]\u001b[0m Trial 38 finished with value: 0.8668641870659289 and parameters: {'iterations': 1500, 'learning_rate': 0.05798903008076723, 'random_strength': 10, 'bagging_temperature': 7, 'max_bin': 6, 'grow_policy': 'SymmetricTree', 'min_data_in_leaf': 2, 'max_depth': 6, 'l2_leaf_reg': 86.29514322779784, 'one_hot_max_size': 500, 'auto_class_weights': 'SqrtBalanced'}. Best is trial 36 with value: 0.8680167268415009.\u001b[0m\n",
      "\u001b[32m[I 2023-04-27 18:28:27,290]\u001b[0m Trial 39 finished with value: 0.8658015126181562 and parameters: {'iterations': 1200, 'learning_rate': 0.02200900396025004, 'random_strength': 8, 'bagging_temperature': 4, 'max_bin': 6, 'grow_policy': 'Depthwise', 'min_data_in_leaf': 1, 'max_depth': 4, 'l2_leaf_reg': 93.6870243047183, 'one_hot_max_size': 500, 'auto_class_weights': 'Balanced'}. Best is trial 36 with value: 0.8680167268415009.\u001b[0m\n",
      "\u001b[32m[I 2023-04-27 18:29:11,386]\u001b[0m Trial 40 finished with value: 0.8666580726119578 and parameters: {'iterations': 1200, 'learning_rate': 0.04358175558059905, 'random_strength': 9, 'bagging_temperature': 6, 'max_bin': 4, 'grow_policy': 'Lossguide', 'min_data_in_leaf': 2, 'max_depth': 8, 'l2_leaf_reg': 88.42515249634988, 'one_hot_max_size': 500, 'auto_class_weights': 'SqrtBalanced'}. Best is trial 36 with value: 0.8680167268415009.\u001b[0m\n",
      "\u001b[32m[I 2023-04-27 18:31:06,473]\u001b[0m Trial 41 finished with value: 0.8665351332663267 and parameters: {'iterations': 1200, 'learning_rate': 0.06869805277911512, 'random_strength': 8, 'bagging_temperature': 2, 'max_bin': 8, 'grow_policy': 'Depthwise', 'min_data_in_leaf': 3, 'max_depth': 9, 'l2_leaf_reg': 68.47998606345793, 'one_hot_max_size': 12, 'auto_class_weights': 'SqrtBalanced'}. Best is trial 36 with value: 0.8680167268415009.\u001b[0m\n",
      "\u001b[32m[I 2023-04-27 18:31:36,069]\u001b[0m Trial 42 finished with value: 0.8663870589076064 and parameters: {'iterations': 1200, 'learning_rate': 0.08357092194446578, 'random_strength': 6, 'bagging_temperature': 2, 'max_bin': 6, 'grow_policy': 'Depthwise', 'min_data_in_leaf': 4, 'max_depth': 9, 'l2_leaf_reg': 81.65621907361961, 'one_hot_max_size': 500, 'auto_class_weights': 'SqrtBalanced'}. Best is trial 36 with value: 0.8680167268415009.\u001b[0m\n",
      "\u001b[32m[I 2023-04-27 18:32:48,531]\u001b[0m Trial 43 finished with value: 0.8674106390754431 and parameters: {'iterations': 1200, 'learning_rate': 0.04255541675673765, 'random_strength': 10, 'bagging_temperature': 1, 'max_bin': 30, 'grow_policy': 'Depthwise', 'min_data_in_leaf': 3, 'max_depth': 10, 'l2_leaf_reg': 95.19224826876633, 'one_hot_max_size': 100, 'auto_class_weights': 'SqrtBalanced'}. Best is trial 36 with value: 0.8680167268415009.\u001b[0m\n",
      "\u001b[32m[I 2023-04-27 18:33:13,758]\u001b[0m Trial 44 finished with value: 0.8550990082991591 and parameters: {'iterations': 100, 'learning_rate': 0.027595806077332197, 'random_strength': 10, 'bagging_temperature': 0, 'max_bin': 20, 'grow_policy': 'Depthwise', 'min_data_in_leaf': 2, 'max_depth': 10, 'l2_leaf_reg': 93.34413318110997, 'one_hot_max_size': 100, 'auto_class_weights': 'SqrtBalanced'}. Best is trial 36 with value: 0.8680167268415009.\u001b[0m\n",
      "\u001b[32m[I 2023-04-27 18:37:03,913]\u001b[0m Trial 45 finished with value: 0.8659429958209991 and parameters: {'iterations': 1200, 'learning_rate': 0.009506179359581396, 'random_strength': 10, 'bagging_temperature': 1, 'max_bin': 10, 'grow_policy': 'Depthwise', 'min_data_in_leaf': 3, 'max_depth': 10, 'l2_leaf_reg': 95.24294925964126, 'one_hot_max_size': 100, 'auto_class_weights': 'SqrtBalanced'}. Best is trial 36 with value: 0.8680167268415009.\u001b[0m\n",
      "\u001b[32m[I 2023-04-27 18:37:49,873]\u001b[0m Trial 46 finished with value: 0.8619981678609541 and parameters: {'iterations': 200, 'learning_rate': 0.040051494489767206, 'random_strength': 9, 'bagging_temperature': 4, 'max_bin': 4, 'grow_policy': 'Depthwise', 'min_data_in_leaf': 2, 'max_depth': 10, 'l2_leaf_reg': 88.37956325968314, 'one_hot_max_size': 100, 'auto_class_weights': 'SqrtBalanced'}. Best is trial 36 with value: 0.8680167268415009.\u001b[0m\n",
      "\u001b[32m[I 2023-04-27 18:38:12,790]\u001b[0m Trial 47 finished with value: 0.8671972347779422 and parameters: {'iterations': 1500, 'learning_rate': 0.06538298262199901, 'random_strength': 1, 'bagging_temperature': 3, 'max_bin': 30, 'grow_policy': 'Depthwise', 'min_data_in_leaf': 10, 'max_depth': 7, 'l2_leaf_reg': 83.69083169132995, 'one_hot_max_size': 100, 'auto_class_weights': 'SqrtBalanced'}. Best is trial 36 with value: 0.8680167268415009.\u001b[0m\n",
      "\u001b[32m[I 2023-04-27 18:38:53,395]\u001b[0m Trial 48 finished with value: 0.8562351200232289 and parameters: {'iterations': 300, 'learning_rate': 0.010334852175455773, 'random_strength': 10, 'bagging_temperature': 1, 'max_bin': 6, 'grow_policy': 'SymmetricTree', 'min_data_in_leaf': 5, 'max_depth': 10, 'l2_leaf_reg': 95.01290513341496, 'one_hot_max_size': 1024, 'auto_class_weights': 'Balanced'}. Best is trial 36 with value: 0.8680167268415009.\u001b[0m\n",
      "\u001b[32m[I 2023-04-27 18:49:17,415]\u001b[0m Trial 49 finished with value: 0.8569943787068809 and parameters: {'iterations': 1200, 'learning_rate': 0.0015396250086736653, 'random_strength': 8, 'bagging_temperature': 0, 'max_bin': 8, 'grow_policy': 'Depthwise', 'min_data_in_leaf': 1, 'max_depth': 9, 'l2_leaf_reg': 78.24517402438623, 'one_hot_max_size': 5, 'auto_class_weights': 'SqrtBalanced'}. Best is trial 36 with value: 0.8680167268415009.\u001b[0m\n",
      "\u001b[32m[I 2023-04-27 18:50:53,813]\u001b[0m Trial 50 finished with value: 0.8673158895759144 and parameters: {'iterations': 500, 'learning_rate': 0.09730947652957947, 'random_strength': 9, 'bagging_temperature': 3, 'max_bin': 30, 'grow_policy': 'Depthwise', 'min_data_in_leaf': 3, 'max_depth': 8, 'l2_leaf_reg': 89.82150912203417, 'one_hot_max_size': 10, 'auto_class_weights': 'Balanced'}. Best is trial 36 with value: 0.8680167268415009.\u001b[0m\n",
      "\u001b[32m[I 2023-04-27 18:52:29,120]\u001b[0m Trial 51 finished with value: 0.8662868025706996 and parameters: {'iterations': 500, 'learning_rate': 0.0916496177003667, 'random_strength': 9, 'bagging_temperature': 3, 'max_bin': 30, 'grow_policy': 'Depthwise', 'min_data_in_leaf': 3, 'max_depth': 8, 'l2_leaf_reg': 90.76626969625816, 'one_hot_max_size': 10, 'auto_class_weights': 'Balanced'}. Best is trial 36 with value: 0.8680167268415009.\u001b[0m\n",
      "\u001b[32m[I 2023-04-27 18:55:10,233]\u001b[0m Trial 52 finished with value: 0.8669392539336588 and parameters: {'iterations': 500, 'learning_rate': 0.05129813402088585, 'random_strength': 10, 'bagging_temperature': 5, 'max_bin': 30, 'grow_policy': 'Depthwise', 'min_data_in_leaf': 2, 'max_depth': 7, 'l2_leaf_reg': 97.65864472842034, 'one_hot_max_size': 10, 'auto_class_weights': 'Balanced'}. Best is trial 36 with value: 0.8680167268415009.\u001b[0m\n",
      "\u001b[32m[I 2023-04-27 18:56:32,907]\u001b[0m Trial 53 finished with value: 0.8660776056740318 and parameters: {'iterations': 500, 'learning_rate': 0.09158126382954757, 'random_strength': 2, 'bagging_temperature': 2, 'max_bin': 30, 'grow_policy': 'Depthwise', 'min_data_in_leaf': 4, 'max_depth': 8, 'l2_leaf_reg': 84.04003782312013, 'one_hot_max_size': 10, 'auto_class_weights': 'Balanced'}. Best is trial 36 with value: 0.8680167268415009.\u001b[0m\n",
      "\u001b[32m[I 2023-04-27 18:58:35,497]\u001b[0m Trial 54 finished with value: 0.8658818446631104 and parameters: {'iterations': 500, 'learning_rate': 0.06724216803721633, 'random_strength': 9, 'bagging_temperature': 4, 'max_bin': 30, 'grow_policy': 'Depthwise', 'min_data_in_leaf': 3, 'max_depth': 9, 'l2_leaf_reg': 89.42421346480194, 'one_hot_max_size': 10, 'auto_class_weights': 'Balanced'}. Best is trial 36 with value: 0.8680167268415009.\u001b[0m\n",
      "\u001b[32m[I 2023-04-27 18:58:57,582]\u001b[0m Trial 55 finished with value: 0.8655819235048823 and parameters: {'iterations': 1000, 'learning_rate': 0.10573502606576579, 'random_strength': 4, 'bagging_temperature': 1, 'max_bin': 30, 'grow_policy': 'Lossguide', 'min_data_in_leaf': 3, 'max_depth': 6, 'l2_leaf_reg': 96.40659177912045, 'one_hot_max_size': 100, 'auto_class_weights': 'Balanced'}. Best is trial 36 with value: 0.8680167268415009.\u001b[0m\n",
      "\u001b[32m[I 2023-04-27 19:00:40,406]\u001b[0m Trial 56 finished with value: 0.8680579163930002 and parameters: {'iterations': 1200, 'learning_rate': 0.02503891976936301, 'random_strength': 8, 'bagging_temperature': 3, 'max_bin': 5, 'grow_policy': 'Depthwise', 'min_data_in_leaf': 8, 'max_depth': 10, 'l2_leaf_reg': 77.36076817486992, 'one_hot_max_size': 500, 'auto_class_weights': 'SqrtBalanced'}. Best is trial 56 with value: 0.8680579163930002.\u001b[0m\n",
      "\u001b[32m[I 2023-04-27 19:02:30,938]\u001b[0m Trial 57 finished with value: 0.8680297107380115 and parameters: {'iterations': 1200, 'learning_rate': 0.022661400847196513, 'random_strength': 8, 'bagging_temperature': 5, 'max_bin': 5, 'grow_policy': 'Depthwise', 'min_data_in_leaf': 9, 'max_depth': 10, 'l2_leaf_reg': 77.02433601988575, 'one_hot_max_size': 500, 'auto_class_weights': 'SqrtBalanced'}. Best is trial 56 with value: 0.8680579163930002.\u001b[0m\n",
      "\u001b[32m[I 2023-04-27 19:04:32,049]\u001b[0m Trial 58 finished with value: 0.867981656794246 and parameters: {'iterations': 1200, 'learning_rate': 0.020217801737678398, 'random_strength': 8, 'bagging_temperature': 6, 'max_bin': 5, 'grow_policy': 'Depthwise', 'min_data_in_leaf': 9, 'max_depth': 10, 'l2_leaf_reg': 77.59399081001035, 'one_hot_max_size': 500, 'auto_class_weights': 'SqrtBalanced'}. Best is trial 56 with value: 0.8680579163930002.\u001b[0m\n",
      "\u001b[32m[I 2023-04-27 19:06:23,265]\u001b[0m Trial 59 finished with value: 0.8683012037436981 and parameters: {'iterations': 1200, 'learning_rate': 0.022846040599585463, 'random_strength': 8, 'bagging_temperature': 6, 'max_bin': 5, 'grow_policy': 'Depthwise', 'min_data_in_leaf': 9, 'max_depth': 10, 'l2_leaf_reg': 76.35444960594825, 'one_hot_max_size': 500, 'auto_class_weights': 'SqrtBalanced'}. Best is trial 59 with value: 0.8683012037436981.\u001b[0m\n",
      "\u001b[32m[I 2023-04-27 19:08:05,757]\u001b[0m Trial 60 finished with value: 0.8676693396793039 and parameters: {'iterations': 1200, 'learning_rate': 0.022413968887473747, 'random_strength': 8, 'bagging_temperature': 7, 'max_bin': 5, 'grow_policy': 'Depthwise', 'min_data_in_leaf': 9, 'max_depth': 10, 'l2_leaf_reg': 76.84909037746262, 'one_hot_max_size': 500, 'auto_class_weights': 'SqrtBalanced'}. Best is trial 59 with value: 0.8683012037436981.\u001b[0m\n",
      "\u001b[32m[I 2023-04-27 19:10:06,245]\u001b[0m Trial 61 finished with value: 0.8679340226992209 and parameters: {'iterations': 1200, 'learning_rate': 0.020387783746436298, 'random_strength': 8, 'bagging_temperature': 7, 'max_bin': 5, 'grow_policy': 'Depthwise', 'min_data_in_leaf': 9, 'max_depth': 10, 'l2_leaf_reg': 77.3533412690419, 'one_hot_max_size': 500, 'auto_class_weights': 'SqrtBalanced'}. Best is trial 59 with value: 0.8683012037436981.\u001b[0m\n",
      "\u001b[32m[I 2023-04-27 19:12:14,260]\u001b[0m Trial 62 finished with value: 0.8677531698670311 and parameters: {'iterations': 1200, 'learning_rate': 0.01998709720068695, 'random_strength': 8, 'bagging_temperature': 8, 'max_bin': 5, 'grow_policy': 'Depthwise', 'min_data_in_leaf': 9, 'max_depth': 10, 'l2_leaf_reg': 78.6008356094451, 'one_hot_max_size': 500, 'auto_class_weights': 'SqrtBalanced'}. Best is trial 59 with value: 0.8683012037436981.\u001b[0m\n",
      "\u001b[32m[I 2023-04-27 19:13:36,730]\u001b[0m Trial 63 finished with value: 0.8673646176423875 and parameters: {'iterations': 1200, 'learning_rate': 0.03061468870717854, 'random_strength': 8, 'bagging_temperature': 9, 'max_bin': 5, 'grow_policy': 'Depthwise', 'min_data_in_leaf': 9, 'max_depth': 10, 'l2_leaf_reg': 79.18652240405862, 'one_hot_max_size': 500, 'auto_class_weights': 'SqrtBalanced'}. Best is trial 59 with value: 0.8683012037436981.\u001b[0m\n",
      "\u001b[32m[I 2023-04-27 19:17:06,711]\u001b[0m Trial 64 finished with value: 0.8647007818050241 and parameters: {'iterations': 1200, 'learning_rate': 0.007276315345528809, 'random_strength': 8, 'bagging_temperature': 8, 'max_bin': 5, 'grow_policy': 'Depthwise', 'min_data_in_leaf': 9, 'max_depth': 10, 'l2_leaf_reg': 76.93004531330065, 'one_hot_max_size': 500, 'auto_class_weights': 'SqrtBalanced'}. Best is trial 59 with value: 0.8683012037436981.\u001b[0m\n",
      "\u001b[32m[I 2023-04-27 19:19:17,061]\u001b[0m Trial 65 finished with value: 0.86795509190258 and parameters: {'iterations': 1200, 'learning_rate': 0.019203561696343217, 'random_strength': 8, 'bagging_temperature': 7, 'max_bin': 5, 'grow_policy': 'Depthwise', 'min_data_in_leaf': 8, 'max_depth': 10, 'l2_leaf_reg': 70.62441541682097, 'one_hot_max_size': 500, 'auto_class_weights': 'SqrtBalanced'}. Best is trial 59 with value: 0.8683012037436981.\u001b[0m\n",
      "\u001b[32m[I 2023-04-27 19:22:40,009]\u001b[0m Trial 66 finished with value: 0.8679720348397778 and parameters: {'iterations': 1200, 'learning_rate': 0.013325398602444688, 'random_strength': 7, 'bagging_temperature': 6, 'max_bin': 5, 'grow_policy': 'Depthwise', 'min_data_in_leaf': 8, 'max_depth': 10, 'l2_leaf_reg': 65.55410953703242, 'one_hot_max_size': 500, 'auto_class_weights': 'SqrtBalanced'}. Best is trial 59 with value: 0.8683012037436981.\u001b[0m\n",
      "\u001b[32m[I 2023-04-27 19:23:41,366]\u001b[0m Trial 67 finished with value: 0.8677371500771102 and parameters: {'iterations': 1200, 'learning_rate': 0.03274575312689136, 'random_strength': 7, 'bagging_temperature': 6, 'max_bin': 5, 'grow_policy': 'Lossguide', 'min_data_in_leaf': 8, 'max_depth': 9, 'l2_leaf_reg': 69.90262728758286, 'one_hot_max_size': 500, 'auto_class_weights': 'SqrtBalanced'}. Best is trial 59 with value: 0.8683012037436981.\u001b[0m\n",
      "\u001b[32m[I 2023-04-27 19:26:46,527]\u001b[0m Trial 68 finished with value: 0.8682400825246936 and parameters: {'iterations': 1200, 'learning_rate': 0.013348794725868939, 'random_strength': 6, 'bagging_temperature': 6, 'max_bin': 5, 'grow_policy': 'Depthwise', 'min_data_in_leaf': 7, 'max_depth': 10, 'l2_leaf_reg': 64.42946432484729, 'one_hot_max_size': 500, 'auto_class_weights': 'SqrtBalanced'}. Best is trial 59 with value: 0.8683012037436981.\u001b[0m\n",
      "\u001b[32m[I 2023-04-27 19:29:09,234]\u001b[0m Trial 69 finished with value: 0.8670545775546215 and parameters: {'iterations': 1200, 'learning_rate': 0.010434229663748103, 'random_strength': 6, 'bagging_temperature': 6, 'max_bin': 5, 'grow_policy': 'SymmetricTree', 'min_data_in_leaf': 7, 'max_depth': 9, 'l2_leaf_reg': 66.54079985966271, 'one_hot_max_size': 500, 'auto_class_weights': 'SqrtBalanced'}. Best is trial 59 with value: 0.8683012037436981.\u001b[0m\n",
      "\u001b[32m[I 2023-04-27 19:29:21,673]\u001b[0m Trial 70 finished with value: 0.8316864146125333 and parameters: {'iterations': 100, 'learning_rate': 0.0023300141876090585, 'random_strength': 7, 'bagging_temperature': 5, 'max_bin': 5, 'grow_policy': 'Depthwise', 'min_data_in_leaf': 7, 'max_depth': 3, 'l2_leaf_reg': 64.57560456173921, 'one_hot_max_size': 500, 'auto_class_weights': 'SqrtBalanced'}. Best is trial 59 with value: 0.8683012037436981.\u001b[0m\n",
      "\u001b[32m[I 2023-04-27 19:32:48,453]\u001b[0m Trial 71 finished with value: 0.8680520589743683 and parameters: {'iterations': 1200, 'learning_rate': 0.011374144435081845, 'random_strength': 7, 'bagging_temperature': 6, 'max_bin': 5, 'grow_policy': 'Depthwise', 'min_data_in_leaf': 8, 'max_depth': 10, 'l2_leaf_reg': 70.16713110889452, 'one_hot_max_size': 500, 'auto_class_weights': 'SqrtBalanced'}. Best is trial 59 with value: 0.8683012037436981.\u001b[0m\n",
      "\u001b[32m[I 2023-04-27 19:36:07,237]\u001b[0m Trial 72 finished with value: 0.8682859116694935 and parameters: {'iterations': 1200, 'learning_rate': 0.012220378307105333, 'random_strength': 5, 'bagging_temperature': 6, 'max_bin': 5, 'grow_policy': 'Depthwise', 'min_data_in_leaf': 10, 'max_depth': 10, 'l2_leaf_reg': 74.39330014040905, 'one_hot_max_size': 500, 'auto_class_weights': 'SqrtBalanced'}. Best is trial 59 with value: 0.8683012037436981.\u001b[0m\n",
      "\u001b[32m[I 2023-04-27 19:37:17,009]\u001b[0m Trial 73 finished with value: 0.8676753542034603 and parameters: {'iterations': 1200, 'learning_rate': 0.03503312359412214, 'random_strength': 5, 'bagging_temperature': 5, 'max_bin': 5, 'grow_policy': 'Depthwise', 'min_data_in_leaf': 10, 'max_depth': 10, 'l2_leaf_reg': 73.7472998365166, 'one_hot_max_size': 500, 'auto_class_weights': 'SqrtBalanced'}. Best is trial 59 with value: 0.8683012037436981.\u001b[0m\n",
      "\u001b[32m[I 2023-04-27 19:38:36,186]\u001b[0m Trial 74 finished with value: 0.8676230613388208 and parameters: {'iterations': 1200, 'learning_rate': 0.025428583710224578, 'random_strength': 4, 'bagging_temperature': 6, 'max_bin': 5, 'grow_policy': 'Depthwise', 'min_data_in_leaf': 10, 'max_depth': 9, 'l2_leaf_reg': 74.96394196488852, 'one_hot_max_size': 500, 'auto_class_weights': 'SqrtBalanced'}. Best is trial 59 with value: 0.8683012037436981.\u001b[0m\n",
      "\u001b[32m[I 2023-04-27 19:42:38,226]\u001b[0m Trial 75 finished with value: 0.8573321274850866 and parameters: {'iterations': 1200, 'learning_rate': 0.0018549031252343296, 'random_strength': 5, 'bagging_temperature': 7, 'max_bin': 5, 'grow_policy': 'Depthwise', 'min_data_in_leaf': 9, 'max_depth': 10, 'l2_leaf_reg': 81.15909893796845, 'one_hot_max_size': 500, 'auto_class_weights': 'SqrtBalanced'}. Best is trial 59 with value: 0.8683012037436981.\u001b[0m\n",
      "\u001b[32m[I 2023-04-27 19:45:51,846]\u001b[0m Trial 76 finished with value: 0.8678269002995392 and parameters: {'iterations': 1500, 'learning_rate': 0.012736165681947655, 'random_strength': 6, 'bagging_temperature': 6, 'max_bin': 5, 'grow_policy': 'Depthwise', 'min_data_in_leaf': 8, 'max_depth': 10, 'l2_leaf_reg': 71.66288070456933, 'one_hot_max_size': 500, 'auto_class_weights': 'SqrtBalanced'}. Best is trial 59 with value: 0.8683012037436981.\u001b[0m\n",
      "\u001b[32m[I 2023-04-27 19:47:17,102]\u001b[0m Trial 77 finished with value: 0.867462631639008 and parameters: {'iterations': 1000, 'learning_rate': 0.029947222500748532, 'random_strength': 4, 'bagging_temperature': 5, 'max_bin': 5, 'grow_policy': 'Depthwise', 'min_data_in_leaf': 7, 'max_depth': 10, 'l2_leaf_reg': 75.2389288189349, 'one_hot_max_size': 500, 'auto_class_weights': 'SqrtBalanced'}. Best is trial 59 with value: 0.8683012037436981.\u001b[0m\n",
      "\u001b[32m[I 2023-04-27 19:48:06,623]\u001b[0m Trial 78 finished with value: 0.8674735084161058 and parameters: {'iterations': 1200, 'learning_rate': 0.04616559738239323, 'random_strength': 6, 'bagging_temperature': 5, 'max_bin': 5, 'grow_policy': 'Depthwise', 'min_data_in_leaf': 10, 'max_depth': 9, 'l2_leaf_reg': 67.4522729153159, 'one_hot_max_size': 500, 'auto_class_weights': 'SqrtBalanced'}. Best is trial 59 with value: 0.8683012037436981.\u001b[0m\n",
      "\u001b[32m[I 2023-04-27 19:49:17,754]\u001b[0m Trial 79 finished with value: 0.867186295365656 and parameters: {'iterations': 1200, 'learning_rate': 0.0367455870480109, 'random_strength': 6, 'bagging_temperature': 6, 'max_bin': 5, 'grow_policy': 'Depthwise', 'min_data_in_leaf': 6, 'max_depth': 10, 'l2_leaf_reg': 61.278425067999464, 'one_hot_max_size': 500, 'auto_class_weights': 'SqrtBalanced'}. Best is trial 59 with value: 0.8683012037436981.\u001b[0m\n",
      "\u001b[32m[I 2023-04-27 20:12:44,450]\u001b[0m Trial 80 finished with value: 0.8677859944969013 and parameters: {'iterations': 1200, 'learning_rate': 0.015453276178940097, 'random_strength': 7, 'bagging_temperature': 7, 'max_bin': 5, 'grow_policy': 'Lossguide', 'min_data_in_leaf': 8, 'max_depth': 9, 'l2_leaf_reg': 81.0582372201361, 'one_hot_max_size': 5, 'auto_class_weights': 'SqrtBalanced'}. Best is trial 59 with value: 0.8683012037436981.\u001b[0m\n",
      "\u001b[32m[I 2023-04-27 20:16:02,974]\u001b[0m Trial 81 finished with value: 0.8682134530584775 and parameters: {'iterations': 1200, 'learning_rate': 0.012185845965159973, 'random_strength': 7, 'bagging_temperature': 6, 'max_bin': 5, 'grow_policy': 'Depthwise', 'min_data_in_leaf': 8, 'max_depth': 10, 'l2_leaf_reg': 69.95437477712794, 'one_hot_max_size': 500, 'auto_class_weights': 'SqrtBalanced'}. Best is trial 59 with value: 0.8683012037436981.\u001b[0m\n",
      "\u001b[32m[I 2023-04-27 20:17:44,915]\u001b[0m Trial 82 finished with value: 0.86755786145441 and parameters: {'iterations': 1200, 'learning_rate': 0.024701472190458502, 'random_strength': 5, 'bagging_temperature': 6, 'max_bin': 5, 'grow_policy': 'Depthwise', 'min_data_in_leaf': 8, 'max_depth': 10, 'l2_leaf_reg': 71.09037505858059, 'one_hot_max_size': 500, 'auto_class_weights': 'SqrtBalanced'}. Best is trial 59 with value: 0.8683012037436981.\u001b[0m\n",
      "\u001b[32m[I 2023-04-27 20:21:22,394]\u001b[0m Trial 83 finished with value: 0.8669001807129142 and parameters: {'iterations': 1200, 'learning_rate': 0.009768350160865826, 'random_strength': 7, 'bagging_temperature': 5, 'max_bin': 5, 'grow_policy': 'Depthwise', 'min_data_in_leaf': 9, 'max_depth': 10, 'l2_leaf_reg': 68.7697880671435, 'one_hot_max_size': 500, 'auto_class_weights': 'SqrtBalanced'}. Best is trial 59 with value: 0.8683012037436981.\u001b[0m\n",
      "\u001b[32m[I 2023-04-27 20:22:41,887]\u001b[0m Trial 84 finished with value: 0.8680620530178897 and parameters: {'iterations': 1200, 'learning_rate': 0.03465518651993507, 'random_strength': 7, 'bagging_temperature': 6, 'max_bin': 5, 'grow_policy': 'Depthwise', 'min_data_in_leaf': 7, 'max_depth': 10, 'l2_leaf_reg': 84.02066577425272, 'one_hot_max_size': 500, 'auto_class_weights': 'SqrtBalanced'}. Best is trial 59 with value: 0.8683012037436981.\u001b[0m\n",
      "\u001b[32m[I 2023-04-27 20:23:18,094]\u001b[0m Trial 85 finished with value: 0.86614764438842 and parameters: {'iterations': 200, 'learning_rate': 0.05921614712293515, 'random_strength': 6, 'bagging_temperature': 7, 'max_bin': 20, 'grow_policy': 'Depthwise', 'min_data_in_leaf': 7, 'max_depth': 9, 'l2_leaf_reg': 85.55882672476164, 'one_hot_max_size': 500, 'auto_class_weights': 'SqrtBalanced'}. Best is trial 59 with value: 0.8683012037436981.\u001b[0m\n",
      "\u001b[32m[I 2023-04-27 20:24:08,854]\u001b[0m Trial 86 finished with value: 0.8669832864680073 and parameters: {'iterations': 1200, 'learning_rate': 0.048437452084549325, 'random_strength': 7, 'bagging_temperature': 6, 'max_bin': 6, 'grow_policy': 'SymmetricTree', 'min_data_in_leaf': 6, 'max_depth': 10, 'l2_leaf_reg': 83.33028583551175, 'one_hot_max_size': 500, 'auto_class_weights': 'SqrtBalanced'}. Best is trial 59 with value: 0.8683012037436981.\u001b[0m\n",
      "\u001b[32m[I 2023-04-27 20:25:14,967]\u001b[0m Trial 87 finished with value: 0.866806316076708 and parameters: {'iterations': 1200, 'learning_rate': 0.03501659294687658, 'random_strength': 6, 'bagging_temperature': 5, 'max_bin': 5, 'grow_policy': 'Depthwise', 'min_data_in_leaf': 7, 'max_depth': 10, 'l2_leaf_reg': 73.92411805187827, 'one_hot_max_size': 1024, 'auto_class_weights': 'SqrtBalanced'}. Best is trial 59 with value: 0.8683012037436981.\u001b[0m\n",
      "\u001b[32m[I 2023-04-27 20:25:34,707]\u001b[0m Trial 88 finished with value: 0.8574069806872151 and parameters: {'iterations': 100, 'learning_rate': 0.028550923329880705, 'random_strength': 5, 'bagging_temperature': 7, 'max_bin': 10, 'grow_policy': 'Depthwise', 'min_data_in_leaf': 8, 'max_depth': 9, 'l2_leaf_reg': 82.20488993687742, 'one_hot_max_size': 500, 'auto_class_weights': 'SqrtBalanced'}. Best is trial 59 with value: 0.8683012037436981.\u001b[0m\n",
      "\u001b[32m[I 2023-04-27 20:26:37,432]\u001b[0m Trial 89 finished with value: 0.8671263141530791 and parameters: {'iterations': 1200, 'learning_rate': 0.04250523730263094, 'random_strength': 7, 'bagging_temperature': 6, 'max_bin': 5, 'grow_policy': 'Depthwise', 'min_data_in_leaf': 7, 'max_depth': 10, 'l2_leaf_reg': 62.709094216937885, 'one_hot_max_size': 500, 'auto_class_weights': 'SqrtBalanced'}. Best is trial 59 with value: 0.8683012037436981.\u001b[0m\n",
      "\u001b[32m[I 2023-04-27 20:29:39,922]\u001b[0m Trial 90 finished with value: 0.86451183032673 and parameters: {'iterations': 1200, 'learning_rate': 0.006908221555807465, 'random_strength': 7, 'bagging_temperature': 5, 'max_bin': 6, 'grow_policy': 'Depthwise', 'min_data_in_leaf': 8, 'max_depth': 9, 'l2_leaf_reg': 69.09502624270448, 'one_hot_max_size': 500, 'auto_class_weights': 'SqrtBalanced'}. Best is trial 59 with value: 0.8683012037436981.\u001b[0m\n",
      "\u001b[32m[I 2023-04-27 20:31:45,259]\u001b[0m Trial 91 finished with value: 0.8675960552640941 and parameters: {'iterations': 1200, 'learning_rate': 0.01956362129831373, 'random_strength': 8, 'bagging_temperature': 6, 'max_bin': 5, 'grow_policy': 'Depthwise', 'min_data_in_leaf': 9, 'max_depth': 10, 'l2_leaf_reg': 76.1885933654578, 'one_hot_max_size': 500, 'auto_class_weights': 'SqrtBalanced'}. Best is trial 59 with value: 0.8683012037436981.\u001b[0m\n",
      "\u001b[32m[I 2023-04-27 20:34:49,047]\u001b[0m Trial 92 finished with value: 0.8681884268028404 and parameters: {'iterations': 1200, 'learning_rate': 0.01370053314401591, 'random_strength': 8, 'bagging_temperature': 6, 'max_bin': 5, 'grow_policy': 'Depthwise', 'min_data_in_leaf': 10, 'max_depth': 10, 'l2_leaf_reg': 79.2655826121927, 'one_hot_max_size': 500, 'auto_class_weights': 'SqrtBalanced'}. Best is trial 59 with value: 0.8683012037436981.\u001b[0m\n",
      "\u001b[32m[I 2023-04-27 20:37:41,723]\u001b[0m Trial 93 finished with value: 0.8681430026097304 and parameters: {'iterations': 1200, 'learning_rate': 0.014230625927074088, 'random_strength': 8, 'bagging_temperature': 6, 'max_bin': 5, 'grow_policy': 'Depthwise', 'min_data_in_leaf': 10, 'max_depth': 10, 'l2_leaf_reg': 73.44720511016185, 'one_hot_max_size': 500, 'auto_class_weights': 'SqrtBalanced'}. Best is trial 59 with value: 0.8683012037436981.\u001b[0m\n",
      "\u001b[32m[I 2023-04-27 20:41:28,131]\u001b[0m Trial 94 finished with value: 0.8533305455028108 and parameters: {'iterations': 1200, 'learning_rate': 0.001008646341085679, 'random_strength': 8, 'bagging_temperature': 6, 'max_bin': 5, 'grow_policy': 'Depthwise', 'min_data_in_leaf': 10, 'max_depth': 10, 'l2_leaf_reg': 72.67574924567535, 'one_hot_max_size': 500, 'auto_class_weights': 'SqrtBalanced'}. Best is trial 59 with value: 0.8683012037436981.\u001b[0m\n",
      "\u001b[32m[I 2023-04-27 20:44:57,999]\u001b[0m Trial 95 finished with value: 0.8677931428980663 and parameters: {'iterations': 1200, 'learning_rate': 0.011233818888332752, 'random_strength': 8, 'bagging_temperature': 7, 'max_bin': 5, 'grow_policy': 'Depthwise', 'min_data_in_leaf': 10, 'max_depth': 10, 'l2_leaf_reg': 72.53640239247153, 'one_hot_max_size': 500, 'auto_class_weights': 'SqrtBalanced'}. Best is trial 59 with value: 0.8683012037436981.\u001b[0m\n",
      "\u001b[32m[I 2023-04-27 20:53:55,903]\u001b[0m Trial 96 finished with value: 0.868372165211389 and parameters: {'iterations': 1500, 'learning_rate': 0.015494337354824417, 'random_strength': 7, 'bagging_temperature': 6, 'max_bin': 5, 'grow_policy': 'Depthwise', 'min_data_in_leaf': 10, 'max_depth': 10, 'l2_leaf_reg': 80.31439723807587, 'one_hot_max_size': 5, 'auto_class_weights': 'SqrtBalanced'}. Best is trial 96 with value: 0.868372165211389.\u001b[0m\n",
      "\u001b[32m[I 2023-04-27 21:02:46,215]\u001b[0m Trial 97 finished with value: 0.8681528257692595 and parameters: {'iterations': 1500, 'learning_rate': 0.015334933715833145, 'random_strength': 7, 'bagging_temperature': 6, 'max_bin': 5, 'grow_policy': 'Depthwise', 'min_data_in_leaf': 10, 'max_depth': 10, 'l2_leaf_reg': 86.79157115818467, 'one_hot_max_size': 5, 'auto_class_weights': 'SqrtBalanced'}. Best is trial 96 with value: 0.868372165211389.\u001b[0m\n",
      "\u001b[32m[I 2023-04-27 21:06:59,008]\u001b[0m Trial 98 finished with value: 0.8681609440633945 and parameters: {'iterations': 1500, 'learning_rate': 0.0366020342218755, 'random_strength': 7, 'bagging_temperature': 6, 'max_bin': 5, 'grow_policy': 'Depthwise', 'min_data_in_leaf': 10, 'max_depth': 10, 'l2_leaf_reg': 85.10924391093546, 'one_hot_max_size': 5, 'auto_class_weights': 'SqrtBalanced'}. Best is trial 96 with value: 0.868372165211389.\u001b[0m\n",
      "\u001b[32m[I 2023-04-27 21:14:53,028]\u001b[0m Trial 99 finished with value: 0.8682054912087086 and parameters: {'iterations': 1500, 'learning_rate': 0.01603731687437646, 'random_strength': 7, 'bagging_temperature': 8, 'max_bin': 5, 'grow_policy': 'Depthwise', 'min_data_in_leaf': 10, 'max_depth': 9, 'l2_leaf_reg': 86.46851160486048, 'one_hot_max_size': 5, 'auto_class_weights': 'SqrtBalanced'}. Best is trial 96 with value: 0.868372165211389.\u001b[0m\n"
     ]
    }
   ],
   "source": [
    "sampler = optuna.samplers.TPESampler(seed=68)  # Make the sampler behave in a deterministic way.\n",
    "study_h1n1 = optuna.create_study(direction=\"maximize\", sampler=sampler)\n",
    "study_h1n1.optimize(lambda trial: objective(trial, h1n1_vaccine_pool), n_trials=100)"
   ]
  },
  {
   "cell_type": "code",
   "execution_count": 10,
   "metadata": {},
   "outputs": [
    {
     "name": "stdout",
     "output_type": "stream",
     "text": [
      "Number of finished trials: 100\n",
      "Best trial:\n",
      "  Value: 0.868372165211389\n",
      "  Params: \n",
      "    iterations=1500,\n",
      "    learning_rate=0.015494337354824417,\n",
      "    random_strength=7,\n",
      "    bagging_temperature=6,\n",
      "    max_bin=5,\n",
      "    grow_policy=Depthwise,\n",
      "    min_data_in_leaf=10,\n",
      "    max_depth=10,\n",
      "    l2_leaf_reg=80.31439723807587,\n",
      "    one_hot_max_size=5,\n",
      "    auto_class_weights=SqrtBalanced,\n"
     ]
    }
   ],
   "source": [
    "print(\"Number of finished trials: {}\".format(len(study_h1n1.trials)))\n",
    "print(\"Best trial:\")\n",
    "trial = study_h1n1.best_trial\n",
    "print(\"  Value: {}\".format(trial.value))\n",
    "print(\"  Params: \")\n",
    "for key, value in trial.params.items():\n",
    "    print(\"    {}={},\".format(key, value))"
   ]
  },
  {
   "cell_type": "code",
   "execution_count": 11,
   "metadata": {},
   "outputs": [
    {
     "data": {
      "text/plain": [
       "0.8745725797935606"
      ]
     },
     "execution_count": 11,
     "metadata": {},
     "output_type": "execute_result"
    }
   ],
   "source": [
    "final_model_h1n1 = CatBoostClassifier(\n",
    "    verbose=False,  \n",
    "    cat_features=categorical_features_indices, \n",
    "    **trial.params\n",
    ")\n",
    "\n",
    "final_model_h1n1.fit(X_train, y_train.h1n1_vaccine)\n",
    "predictions_h1n1 = final_model_h1n1.predict_proba(X_test)\n",
    "predictions_h1n1 = predictions_h1n1[:,1].reshape(-1,1)\n",
    "roc_auc_score(y_test.h1n1_vaccine, predictions_h1n1)"
   ]
  },
  {
   "cell_type": "markdown",
   "metadata": {},
   "source": [
    "# Seasonal Vaccine Prediction"
   ]
  },
  {
   "cell_type": "code",
   "execution_count": 8,
   "metadata": {},
   "outputs": [],
   "source": [
    "seasonal_vaccine_pool = Pool(\n",
    "    data=X_train,\n",
    "    label=y_train.seasonal_vaccine,\n",
    "    cat_features = categorical_features_indices\n",
    ")"
   ]
  },
  {
   "cell_type": "code",
   "execution_count": null,
   "metadata": {},
   "outputs": [],
   "source": [
    "sampler = optuna.samplers.TPESampler(seed=68)  # Make the sampler behave in a deterministic way.\n",
    "study_seasonal = optuna.create_study(\n",
    "    study_name='seasonal-study', \n",
    "    storage='sqlite:///seasonal.db', \n",
    "    load_if_exists=True,\n",
    "    direction=\"maximize\", \n",
    "    sampler=sampler\n",
    ")\n",
    "study_seasonal.optimize(lambda trial: objective(trial, seasonal_vaccine_pool), n_trials=100)"
   ]
  },
  {
   "cell_type": "code",
   "execution_count": 10,
   "metadata": {},
   "outputs": [
    {
     "name": "stderr",
     "output_type": "stream",
     "text": [
      "\u001b[32m[I 2023-04-28 17:27:46,282]\u001b[0m Using an existing study with name 'seasonal-study' instead of creating a new one.\u001b[0m\n"
     ]
    },
    {
     "name": "stdout",
     "output_type": "stream",
     "text": [
      "Number of finished trials: 103\n",
      "Best trial:\n",
      "  Value: 0.8637805392567849\n",
      "  Params: \n",
      "    auto_class_weights=SqrtBalanced,\n",
      "    bagging_temperature=0,\n",
      "    grow_policy=Depthwise,\n",
      "    iterations=1500,\n",
      "    l2_leaf_reg=77.31367796732783,\n",
      "    learning_rate=0.03257791879887687,\n",
      "    max_bin=20,\n",
      "    max_depth=8,\n",
      "    min_data_in_leaf=1,\n",
      "    one_hot_max_size=500,\n",
      "    random_strength=2,\n"
     ]
    }
   ],
   "source": [
    "study_seasonal = optuna.create_study(\n",
    "    study_name='seasonal-study', \n",
    "    storage='sqlite:///seasonal.db', \n",
    "    load_if_exists=True,\n",
    ")\n",
    "\n",
    "print(\"Number of finished trials: {}\".format(len(study_seasonal.trials)))\n",
    "print(\"Best trial:\")\n",
    "trial2 = study_seasonal.best_trial\n",
    "print(\"  Value: {}\".format(trial2.value))\n",
    "print(\"  Params: \")\n",
    "for key, value in trial2.params.items():\n",
    "    print(\"    {}={},\".format(key, value))"
   ]
  },
  {
   "cell_type": "code",
   "execution_count": 22,
   "metadata": {},
   "outputs": [
    {
     "data": {
      "text/plain": [
       "0.8588832298640332"
      ]
     },
     "execution_count": 22,
     "metadata": {},
     "output_type": "execute_result"
    }
   ],
   "source": [
    "final_model_seasonal = CatBoostClassifier(\n",
    "    verbose=False,  \n",
    "    cat_features=categorical_features_indices, \n",
    "    **study_seasonal.best_trial.params,\n",
    "    od_type=\"Iter\",\n",
    "    od_wait=10,\n",
    "    loss_function=\"Logloss\",\n",
    "    custom_metric=['AUC'],\n",
    ")\n",
    "\n",
    "final_model_seasonal.fit(X_train, y_train.seasonal_vaccine)\n",
    "predictions_seasonal = final_model_seasonal.predict_proba(X_test)\n",
    "predictions_seasonal = predictions_seasonal[:,1].reshape(-1,1)\n",
    "roc_auc_score(y_test.seasonal_vaccine, predictions_seasonal)"
   ]
  },
  {
   "cell_type": "code",
   "execution_count": 16,
   "metadata": {},
   "outputs": [],
   "source": [
    "scores = cv(\n",
    "    pool=seasonal_vaccine_pool,\n",
    "    params=study_seasonal.best_trial.params | {\n",
    "        'custom_metric': ['AUC'],\n",
    "        'od_type': \"Iter\",\n",
    "        'od_wait': 100,\n",
    "        \"loss_function\": \"Logloss\",\n",
    "    },\n",
    "    fold_count=5, \n",
    "    early_stopping_rounds=10,         \n",
    "    plot=False, \n",
    "    logging_level='Silent'\n",
    ")"
   ]
  },
  {
   "cell_type": "code",
   "execution_count": 19,
   "metadata": {},
   "outputs": [
    {
     "data": {
      "text/plain": [
       "0.8637805392567849"
      ]
     },
     "execution_count": 19,
     "metadata": {},
     "output_type": "execute_result"
    }
   ],
   "source": [
    "scores['test-AUC-mean'].max()"
   ]
  },
  {
   "cell_type": "code",
   "execution_count": 76,
   "metadata": {},
   "outputs": [
    {
     "data": {
      "text/plain": [
       "0.8685882060060544"
      ]
     },
     "execution_count": 76,
     "metadata": {},
     "output_type": "execute_result"
    }
   ],
   "source": [
    "# Let's see the score combined of the two best predictions\n",
    "roc_auc_score(y_test, np.hstack((predictions_h1n1, predictions_seasonal)))"
   ]
  },
  {
   "attachments": {},
   "cell_type": "markdown",
   "metadata": {},
   "source": [
    "# Retrain on full data"
   ]
  },
  {
   "cell_type": "code",
   "execution_count": 17,
   "metadata": {},
   "outputs": [],
   "source": [
    "final_model_h1n1.fit(features_df, labels_df.h1n1_vaccine)\n",
    "final_h1n1 = final_model_h1n1.predict_proba(test_features_df)\n",
    "final_h1n1 = final_h1n1[:,1].reshape(-1,1)"
   ]
  },
  {
   "cell_type": "code",
   "execution_count": 18,
   "metadata": {},
   "outputs": [],
   "source": [
    "final_model_seasonal.fit(features_df, labels_df.seasonal_vaccine)\n",
    "final_se = final_model_seasonal.predict_proba(test_features_df)\n",
    "final_se = final_se[:,1].reshape(-1,1)"
   ]
  },
  {
   "cell_type": "code",
   "execution_count": 19,
   "metadata": {},
   "outputs": [],
   "source": [
    "submission_df = pd.read_csv(\n",
    "    SUBMISSION_FORMAT_PATH, \n",
    "    index_col=\"respondent_id\"\n",
    ")\n",
    "np.testing.assert_array_equal(test_features_df.index.values, \n",
    "                              submission_df.index.values)\n",
    "\n",
    "# Save predictions to submission data frame\n",
    "submission_df[\"h1n1_vaccine\"] = final_h1n1\n",
    "submission_df[\"seasonal_vaccine\"] = final_se\n",
    "\n",
    "submission_df.to_csv(SUBMISSION_DIR / 'catboost-optuna-2.csv', index=True)"
   ]
  },
  {
   "attachments": {},
   "cell_type": "markdown",
   "metadata": {},
   "source": [
    "# Bagging Model with K-Fold CrossValidation"
   ]
  },
  {
   "cell_type": "code",
   "execution_count": 25,
   "metadata": {},
   "outputs": [
    {
     "name": "stdout",
     "output_type": "stream",
     "text": [
      "[FOLD 0/5] DONE.\n",
      "[FOLD 1/5] DONE.\n",
      "[FOLD 2/5] DONE.\n",
      "[FOLD 3/5] DONE.\n",
      "[FOLD 4/5] DONE.\n"
     ]
    }
   ],
   "source": [
    "### FOR H1N1\n",
    "\n",
    "from sklearn.model_selection import KFold\n",
    "\n",
    "K = 5\n",
    "kf = KFold(n_splits=K)\n",
    "\n",
    "models: list[tuple[CatBoostClassifier, float]] = []\n",
    "\n",
    "for i, (train_index, test_index) in enumerate(kf.split(features_df)):\n",
    "    X_train = features_df.iloc[train_index]\n",
    "    X_test  = features_df.iloc[test_index]\n",
    "    y_train = labels_df.iloc[train_index]\n",
    "    y_test  = labels_df.iloc[test_index]\n",
    "\n",
    "    model = CatBoostClassifier(cat_features=categorical_features_indices, verbose=False, **trial.params)\n",
    "\n",
    "    model.fit(X_train, y_train.h1n1_vaccine)\n",
    "    probabilities = model.predict_proba(X_test)[:,1].reshape(-1,1)\n",
    "    weight = roc_auc_score(y_test.h1n1_vaccine, probabilities)\n",
    "    models.append((model, weight))\n",
    "    print(f\"[FOLD {i+1}/{K}] DONE.\")\n"
   ]
  },
  {
   "cell_type": "code",
   "execution_count": 28,
   "metadata": {},
   "outputs": [
    {
     "data": {
      "text/plain": [
       "0.9085078185892029"
      ]
     },
     "execution_count": 28,
     "metadata": {},
     "output_type": "execute_result"
    }
   ],
   "source": [
    "def bag_predict(models: list[tuple[CatBoostClassifier, float]], X):\n",
    "    norm = sum(weight for _, weight in models)\n",
    "\n",
    "    preds = np.zeros((X.shape[0], 1))\n",
    "    \n",
    "    for model, weight in models:\n",
    "        preds += (weight/norm) * model.predict_proba(X)[:,1].reshape(-1,1)\n",
    "\n",
    "    return preds\n",
    "\n",
    "\n",
    "roc_auc_score(y_test.h1n1_vaccine, bag_predict(models, X_test))"
   ]
  },
  {
   "cell_type": "code",
   "execution_count": 52,
   "metadata": {},
   "outputs": [
    {
     "name": "stdout",
     "output_type": "stream",
     "text": [
      "[FOLD 1/5] DONE.\n",
      "[FOLD 2/5] DONE.\n",
      "[FOLD 3/5] DONE.\n",
      "[FOLD 4/5] DONE.\n",
      "[FOLD 5/5] DONE.\n"
     ]
    }
   ],
   "source": [
    "### For seasonal Vaccine\n",
    "\n",
    "from sklearn.model_selection import KFold\n",
    "\n",
    "K = 5\n",
    "kf = KFold(n_splits=K)\n",
    "\n",
    "models_seasonal: list[tuple[CatBoostClassifier, float]] = []\n",
    "\n",
    "for i, (train_index, test_index) in enumerate(kf.split(features_df)):\n",
    "    X_train = features_df.iloc[train_index]\n",
    "    X_test  = features_df.iloc[test_index]\n",
    "    y_train = labels_df.iloc[train_index]\n",
    "    y_test  = labels_df.iloc[test_index]\n",
    "\n",
    "    model = CatBoostClassifier(cat_features=categorical_features_indices, verbose=False, **trial2.params)\n",
    "\n",
    "    model.fit(X_train, y_train.seasonal_vaccine)\n",
    "    probabilities = model.predict_proba(X_test)[:,1].reshape(-1,1)\n",
    "    weight = roc_auc_score(y_test.seasonal_vaccine, probabilities)\n",
    "    models_seasonal.append((model, weight))\n",
    "    print(f\"[FOLD {i+1}/{K}] DONE.\")\n"
   ]
  },
  {
   "cell_type": "code",
   "execution_count": 54,
   "metadata": {},
   "outputs": [
    {
     "data": {
      "text/plain": [
       "0.8956539156114287"
      ]
     },
     "execution_count": 54,
     "metadata": {},
     "output_type": "execute_result"
    }
   ],
   "source": [
    "roc_auc_score(y_test, np.hstack((bag_predict(models, X_test), bag_predict(models_seasonal, X_test))))"
   ]
  },
  {
   "cell_type": "code",
   "execution_count": 56,
   "metadata": {},
   "outputs": [],
   "source": [
    "submission_df = pd.read_csv(\n",
    "    SUBMISSION_FORMAT_PATH, \n",
    "    index_col=\"respondent_id\"\n",
    ")\n",
    "np.testing.assert_array_equal(test_features_df.index.values, \n",
    "                              submission_df.index.values)\n",
    "\n",
    "# Save predictions to submission data frame\n",
    "submission_df[\"h1n1_vaccine\"] = bag_predict(models, test_features_df)\n",
    "submission_df[\"seasonal_vaccine\"] = bag_predict(models_seasonal, test_features_df)\n",
    "\n",
    "submission_df.to_csv(SUBMISSION_DIR / 'catboost-optuna-bagging-1.csv', index=True)"
   ]
  },
  {
   "cell_type": "code",
   "execution_count": 63,
   "metadata": {},
   "outputs": [],
   "source": [
    "import pickle\n",
    "\n",
    "H1N1_BAG_PATH = Path('..') / 'models' / 'catboost' / 'h1n1' / f'catboost-bagged-5-optuna-100'\n",
    "SEASONAL_BAG_PATH = Path('..') / 'models' / 'catboost' / 'seasonal' / f'catboost-bagged-5-optuna-10'\n",
    "\n",
    "for i in range(K):\n",
    "    with open(H1N1_BAG_PATH, 'wb') as f:\n",
    "        pickle.dump(models, f)\n",
    "        \n",
    "    with open(SEASONAL_BAG_PATH, 'wb') as f:\n",
    "        pickle.dump(models_seasonal, f)"
   ]
  },
  {
   "cell_type": "code",
   "execution_count": 68,
   "metadata": {},
   "outputs": [
    {
     "data": {
      "text/plain": [
       "0.8956539156114287"
      ]
     },
     "execution_count": 68,
     "metadata": {},
     "output_type": "execute_result"
    }
   ],
   "source": [
    "import pickle\n",
    "\n",
    "with open(H1N1_BAG_PATH, 'rb') as f:\n",
    "    h1n1_bag = pickle.load(f)\n",
    "\n",
    "with open(SEASONAL_BAG_PATH, 'rb') as f:\n",
    "    seasonal_bag = pickle.load(f)\n",
    "\n",
    "roc_auc_score(y_test, np.hstack((bag_predict(h1n1_bag, X_test), bag_predict(seasonal_bag, X_test))))"
   ]
  },
  {
   "cell_type": "code",
   "execution_count": null,
   "metadata": {},
   "outputs": [],
   "source": []
  }
 ],
 "metadata": {
  "kernelspec": {
   "display_name": "env",
   "language": "python",
   "name": "python3"
  },
  "language_info": {
   "codemirror_mode": {
    "name": "ipython",
    "version": 3
   },
   "file_extension": ".py",
   "mimetype": "text/x-python",
   "name": "python",
   "nbconvert_exporter": "python",
   "pygments_lexer": "ipython3",
   "version": "3.10.4"
  },
  "orig_nbformat": 4
 },
 "nbformat": 4,
 "nbformat_minor": 2
}
